{
 "cells": [
  {
   "cell_type": "markdown",
   "id": "6ca0999b",
   "metadata": {},
   "source": [
    "<img style=\"float: left; margin: 30px 15px 15px 15px;\" src=\"https://pngimage.net/wp-content/uploads/2018/06/logo-iteso-png-5.png\" width=\"300\" height=\"500\" /> \n",
    "    \n",
    "    \n",
    "### <font color='navy'> Simulación de procesos financieros. \n",
    "\n",
    "**Nombres:**Jesus Ivan Lafarga Lizarraga, Jesus Sebastian Gonzalez Ortiz\n",
    "\n",
    "**Fecha:** 22 / Octubre / 2021.\n",
    "\n",
    "**Expediente** : 708989 y  .\n",
    "**Profesor:** Oscar David Jaramillo Zuluaga.\n",
    "\n",
    "# Tarea 7"
   ]
  },
  {
   "cell_type": "markdown",
   "id": "d4fae565",
   "metadata": {},
   "source": [
    "Aproxime el valor de la siguiente integral usando el método monte carlo crudo y método de reducción de varianza de muestreo estratíficado\n",
    "\n",
    "$$I=\\int_{0}^{1}x^2\\text{d}x=\\left.\\frac{x^3}{3}\\right|_{x=0}^{x=1}=\\frac{1}{3}\\approx 0.33333$$\n",
    "\n",
    "Pasos\n",
    "1. Cree una función que realice el método de muestreo estratíficado, recibiendo como único parámetro de entrada la cantidad de estratos y retornando las variables estratíficadas correspondientes.\n",
    "2. Reporte los resultados de la aproximación de la integral usando montecarlo crudo y muestreo estratíficado, en un Dataframe con la información mostrada en la siguiente imagen:"
   ]
  },
  {
   "cell_type": "markdown",
   "id": "78b3e1dc",
   "metadata": {},
   "source": [
    "# Soluciones "
   ]
  },
  {
   "cell_type": "markdown",
   "id": "92ff73e9",
   "metadata": {},
   "source": [
    "### Ivan"
   ]
  },
  {
   "cell_type": "code",
   "execution_count": 1,
   "id": "37f246e9",
   "metadata": {},
   "outputs": [],
   "source": [
    "import numpy as np\n",
    "import pandas as pd"
   ]
  },
  {
   "cell_type": "code",
   "execution_count": 2,
   "id": "211cb00b",
   "metadata": {},
   "outputs": [],
   "source": [
    "# Función 1: Integración montecarlo\n",
    "def int_montecarlo(f:'Función a integrar',\n",
    "                   a:'Límite inferior de la integral',\n",
    "                   b:'Límite superior de la integral',\n",
    "                   U:'Muestra de números U~[a,b]'):\n",
    "    return (b-a)/len(U)*np.sum(f(U))"
   ]
  },
  {
   "cell_type": "code",
   "execution_count": 3,
   "id": "cdeceb7d",
   "metadata": {},
   "outputs": [],
   "source": [
    "#función 2: estratos\n",
    "def stratify(N:\"Número de estratos\"):\n",
    "    i = np.arange(0, N)\n",
    "    U2 = np.random.rand(N)\n",
    "    strat = (U2+i)/N\n",
    "    return strat\n",
    "\n",
    "#m_estratificado = st.norm.ppf((U2 + i) / B)  #B=N"
   ]
  },
  {
   "cell_type": "code",
   "execution_count": 4,
   "id": "aa9293b4",
   "metadata": {},
   "outputs": [
    {
     "data": {
      "text/html": [
       "<div>\n",
       "<style scoped>\n",
       "    .dataframe tbody tr th:only-of-type {\n",
       "        vertical-align: middle;\n",
       "    }\n",
       "\n",
       "    .dataframe tbody tr th {\n",
       "        vertical-align: top;\n",
       "    }\n",
       "\n",
       "    .dataframe thead th {\n",
       "        text-align: right;\n",
       "    }\n",
       "</style>\n",
       "<table border=\"1\" class=\"dataframe\">\n",
       "  <thead>\n",
       "    <tr style=\"text-align: right;\">\n",
       "      <th></th>\n",
       "      <th>Montecarlo crudo</th>\n",
       "      <th>Error relativo_1%</th>\n",
       "      <th>Muestreo estratíficado</th>\n",
       "      <th>Error relativo_2%</th>\n",
       "    </tr>\n",
       "    <tr>\n",
       "      <th>Cantidad_terminos</th>\n",
       "      <th></th>\n",
       "      <th></th>\n",
       "      <th></th>\n",
       "      <th></th>\n",
       "    </tr>\n",
       "  </thead>\n",
       "  <tbody>\n",
       "    <tr>\n",
       "      <th>10</th>\n",
       "      <td>0.390634</td>\n",
       "      <td>17.190182</td>\n",
       "      <td>0.342462</td>\n",
       "      <td>2.738666e+00</td>\n",
       "    </tr>\n",
       "    <tr>\n",
       "      <th>100</th>\n",
       "      <td>0.307062</td>\n",
       "      <td>7.881273</td>\n",
       "      <td>0.332857</td>\n",
       "      <td>1.428955e-01</td>\n",
       "    </tr>\n",
       "    <tr>\n",
       "      <th>1000</th>\n",
       "      <td>0.331906</td>\n",
       "      <td>0.428223</td>\n",
       "      <td>0.333331</td>\n",
       "      <td>8.196326e-04</td>\n",
       "    </tr>\n",
       "    <tr>\n",
       "      <th>10000</th>\n",
       "      <td>0.334684</td>\n",
       "      <td>0.405221</td>\n",
       "      <td>0.333333</td>\n",
       "      <td>5.764052e-05</td>\n",
       "    </tr>\n",
       "    <tr>\n",
       "      <th>100000</th>\n",
       "      <td>0.332529</td>\n",
       "      <td>0.241282</td>\n",
       "      <td>0.333333</td>\n",
       "      <td>3.241772e-06</td>\n",
       "    </tr>\n",
       "    <tr>\n",
       "      <th>1000000</th>\n",
       "      <td>0.333388</td>\n",
       "      <td>0.016267</td>\n",
       "      <td>0.333333</td>\n",
       "      <td>1.461156e-07</td>\n",
       "    </tr>\n",
       "    <tr>\n",
       "      <th>10000000</th>\n",
       "      <td>0.333122</td>\n",
       "      <td>0.063473</td>\n",
       "      <td>0.333333</td>\n",
       "      <td>1.815181e-09</td>\n",
       "    </tr>\n",
       "  </tbody>\n",
       "</table>\n",
       "</div>"
      ],
      "text/plain": [
       "                   Montecarlo crudo  Error relativo_1%  \\\n",
       "Cantidad_terminos                                        \n",
       "10                         0.390634          17.190182   \n",
       "100                        0.307062           7.881273   \n",
       "1000                       0.331906           0.428223   \n",
       "10000                      0.334684           0.405221   \n",
       "100000                     0.332529           0.241282   \n",
       "1000000                    0.333388           0.016267   \n",
       "10000000                   0.333122           0.063473   \n",
       "\n",
       "                   Muestreo estratíficado  Error relativo_2%  \n",
       "Cantidad_terminos                                             \n",
       "10                               0.342462       2.738666e+00  \n",
       "100                              0.332857       1.428955e-01  \n",
       "1000                             0.333331       8.196326e-04  \n",
       "10000                            0.333333       5.764052e-05  \n",
       "100000                           0.333333       3.241772e-06  \n",
       "1000000                          0.333333       1.461156e-07  \n",
       "10000000                         0.333333       1.815181e-09  "
      ]
     },
     "execution_count": 4,
     "metadata": {},
     "output_type": "execute_result"
    }
   ],
   "source": [
    "# Calculamos la aproximación por montecarlo dependiendo de la cantidad de\n",
    "# términos que hayamos creado con ui\n",
    "# intervalo de integración\n",
    "I = 1/3\n",
    "a = 0; b = 1\n",
    "\n",
    "N = np.logspace(1,7,7,dtype=int)\n",
    "\n",
    "#Dataframe con los datos: Definimos la tabla donde se mostrarán los resultados\n",
    "#columnas:\n",
    "df = pd.DataFrame(index = N, columns = [\"Montecarlo crudo\",\"Error relativo_1%\",\"Muestreo estratíficado\",\"Error relativo_2%\"], dtype='float')\n",
    "\n",
    "# Números aleatorios\n",
    "ui = list(map(lambda N:np.random.uniform(a,b,N),N))\n",
    "I_m = list(map(lambda Y:int_montecarlo(lambda x:x**2,a,b,Y),ui)) \n",
    "df[\"Montecarlo crudo\"] = I_m\n",
    "\n",
    "#Montecarlo con muestreo estratificado\n",
    "m_estratificado = ([stratify(i) for i in N])\n",
    "i_estratificado = ([int_montecarlo(lambda x: x**2, a, b, Y) for Y in m_estratificado])\n",
    "df[\"Muestreo estratíficado\"] = i_estratificado\n",
    "df[\"Error relativo_1%\"] = np.abs(((df[\"Montecarlo crudo\"]-I)*100/I))\n",
    "df[\"Error relativo_2%\"] = np.abs(((df[\"Muestreo estratíficado\"]-I)*100/I))\n",
    "\n",
    "df.index.name = \"Cantidad_terminos\"\n",
    "df"
   ]
  },
  {
   "cell_type": "code",
   "execution_count": null,
   "id": "709288e3",
   "metadata": {},
   "outputs": [],
   "source": []
  }
 ],
 "metadata": {
  "kernelspec": {
   "display_name": "Python 3",
   "language": "python",
   "name": "python3"
  },
  "language_info": {
   "codemirror_mode": {
    "name": "ipython",
    "version": 3
   },
   "file_extension": ".py",
   "mimetype": "text/x-python",
   "name": "python",
   "nbconvert_exporter": "python",
   "pygments_lexer": "ipython3",
   "version": "3.8.8"
  }
 },
 "nbformat": 4,
 "nbformat_minor": 5
}
